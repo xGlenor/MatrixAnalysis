{
 "cells": [
  {
   "cell_type": "markdown",
   "id": "d514e9b3",
   "metadata": {},
   "source": [
    "# Zadanie: wartości własne, diagonalizacja i potęgowanie macierzy"
   ]
  },
  {
   "cell_type": "markdown",
   "id": "2d2e4abb",
   "metadata": {},
   "source": [
    "Rozważamy macierz $$A=\\begin{pmatrix}1&1&-2\\\\-1&3&-2\\\\1&-1&4\\end{pmatrix}.$$"
   ]
  },
  {
   "cell_type": "markdown",
   "id": "a78176b3",
   "metadata": {},
   "source": [
    "## (a) Wartości i wektory własne"
   ]
  },
  {
   "cell_type": "code",
   "id": "70348880",
   "metadata": {
    "ExecuteTime": {
     "end_time": "2025-09-06T09:57:23.112627Z",
     "start_time": "2025-09-06T09:57:22.633149Z"
    }
   },
   "source": [
    "import sympy as sp\n",
    "A = sp.Matrix([[1,1,-2],[-1,3,-2],[1,-1,4]])\n",
    "A, A.eigenvals(), A.eigenvects()"
   ],
   "outputs": [
    {
     "data": {
      "text/plain": [
       "(Matrix([\n",
       " [ 1,  1, -2],\n",
       " [-1,  3, -2],\n",
       " [ 1, -1,  4]]),\n",
       " {4: 1, 2: 2},\n",
       " [(2,\n",
       "   2,\n",
       "   [Matrix([\n",
       "    [1],\n",
       "    [1],\n",
       "    [0]]),\n",
       "    Matrix([\n",
       "    [-2],\n",
       "    [ 0],\n",
       "    [ 1]])]),\n",
       "  (4,\n",
       "   1,\n",
       "   [Matrix([\n",
       "    [-1],\n",
       "    [-1],\n",
       "    [ 1]])])])"
      ]
     },
     "execution_count": 1,
     "metadata": {},
     "output_type": "execute_result"
    }
   ],
   "execution_count": 1
  },
  {
   "cell_type": "markdown",
   "id": "d8ab613e",
   "metadata": {},
   "source": [
    "### (b) Podprzestrzenie własne (niezmiennicze)\n",
    "\n",
    "Podprzestrzenie własne to przestrzenie niezmiennicze przekształcenia $T(X)=AX$.\n",
    "\n",
    "$E_2 = \\ker(A-2I) = \\operatorname{span}\\left\\{\\left[\\begin{matrix}1\\\\1\\\\0\\end{matrix}\\right],\\;\\left[\\begin{matrix}-2\\\\0\\\\1\\end{matrix}\\right]\\right\\}$ (wymiar 2).\n",
    "\n",
    "$E_4 = \\ker(A-4I) = \\operatorname{span}\\left\\{\\left[\\begin{matrix}-1\\\\-1\\\\1\\end{matrix}\\right]\\right\\}$ (wymiar 1).\n",
    "\n",
    "Dodatkowo, całe $\\mathbb{R}^3$ oraz $\\{\\mathbf{0}\\}$ też są niezmiennicze."
   ]
  },
  {
   "cell_type": "markdown",
   "id": "5f0a9f64",
   "metadata": {},
   "source": [
    "## (c) Diagonalizacja"
   ]
  },
  {
   "cell_type": "code",
   "id": "9545e170",
   "metadata": {
    "ExecuteTime": {
     "end_time": "2025-09-06T09:57:23.128872Z",
     "start_time": "2025-09-06T09:57:23.123274Z"
    }
   },
   "source": [
    "import sympy as sp\n",
    "A = sp.Matrix([[1,1,-2],[-1,3,-2],[1,-1,4]])\n",
    "v1 = sp.Matrix([1,1,0])\n",
    "v2 = sp.Matrix([-2,0,1])\n",
    "v3 = sp.Matrix([-1,-1,1])\n",
    "P = sp.Matrix.hstack(v1, v2, v3)\n",
    "D = sp.diag(2,2,4)\n",
    "P.det(), (P.inv()*A*P).applyfunc(sp.simplify), D"
   ],
   "outputs": [
    {
     "data": {
      "text/plain": [
       "(2,\n",
       " Matrix([\n",
       " [2, 0, 0],\n",
       " [0, 2, 0],\n",
       " [0, 0, 4]]),\n",
       " Matrix([\n",
       " [2, 0, 0],\n",
       " [0, 2, 0],\n",
       " [0, 0, 4]]))"
      ]
     },
     "execution_count": 2,
     "metadata": {},
     "output_type": "execute_result"
    }
   ],
   "execution_count": 2
  },
  {
   "cell_type": "markdown",
   "id": "5f53bdef",
   "metadata": {},
   "source": [
    "## (d) Obliczenie $A^5$ przez diagonalizację"
   ]
  },
  {
   "cell_type": "code",
   "id": "7a4e2250",
   "metadata": {
    "ExecuteTime": {
     "end_time": "2025-09-06T09:57:23.170741Z",
     "start_time": "2025-09-06T09:57:23.164661Z"
    }
   },
   "source": [
    "import sympy as sp\n",
    "A = sp.Matrix([[1,1,-2],[-1,3,-2],[1,-1,4]])\n",
    "v1, v2, v3 = sp.Matrix([1,1,0]), sp.Matrix([-2,0,1]), sp.Matrix([-1,-1,1])\n",
    "P = sp.Matrix.hstack(v1, v2, v3)\n",
    "D = sp.diag(2,2,4)\n",
    "A5 = P*(D**5)*P.inv()\n",
    "A5"
   ],
   "outputs": [
    {
     "data": {
      "text/plain": [
       "Matrix([\n",
       "[-464,  496, -992],\n",
       "[-496,  528, -992],\n",
       "[ 496, -496, 1024]])"
      ],
      "text/latex": "$\\displaystyle \\left[\\begin{matrix}-464 & 496 & -992\\\\-496 & 528 & -992\\\\496 & -496 & 1024\\end{matrix}\\right]$"
     },
     "execution_count": 3,
     "metadata": {},
     "output_type": "execute_result"
    }
   ],
   "execution_count": 3
  },
  {
   "cell_type": "markdown",
   "id": "c101d87a",
   "metadata": {},
   "source": [
    "**Wniosek:** Macierz $A$ ma wartości własne $\\lambda=2$ (krotność 2) i $\\lambda=4$ (krotność 1), jest diagonalizowalna z $P=[(1,1,0),(-2,0,1),(-1,-1,1)]$ oraz $D=\\mathrm{diag}(2,2,4)$. Zatem $A^5 = PD^5P^{-1}$."
   ]
  }
 ],
 "metadata": {
  "kernelspec": {
   "name": "python3",
   "language": "python",
   "display_name": "Python 3 (ipykernel)"
  }
 },
 "nbformat": 4,
 "nbformat_minor": 5
}
