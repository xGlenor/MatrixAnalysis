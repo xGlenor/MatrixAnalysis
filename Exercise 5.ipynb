{
 "cells": [
  {
   "cell_type": "markdown",
   "id": "a32f1b44",
   "metadata": {},
   "source": [
    "# Zadanie: Pseudoodwrotność Moore’a–Penrose’a\n",
    "Mamy daną macierz:\n",
    "\\[\n",
    "A = \\begin{bmatrix}\n",
    "2 & 3 & 1 & 0 \\\\\n",
    "0 & 1 & -1 & 2 \\\\\n",
    "3 & 1 & 1 & 4\n",
    "\\end{bmatrix}\n",
    "\\]\n",
    "\n",
    "Celem jest znalezienie jej pseudoodwrotności Moore’a–Penrose’a oraz sprawdzenie warunków pseudoodwrotności."
   ]
  },
  {
   "cell_type": "code",
   "id": "eb21b4e0",
   "metadata": {
    "ExecuteTime": {
     "end_time": "2025-09-05T20:47:26.975242Z",
     "start_time": "2025-09-05T20:47:26.882968Z"
    }
   },
   "source": [
    "import numpy as np\n",
    "\n",
    "# Macierz A\n",
    "A = np.array([[2, 3, 1, 0],\n",
    "              [0, 1, -1, 2],\n",
    "              [3, 1, 1, 4]])\n",
    "A"
   ],
   "outputs": [
    {
     "data": {
      "text/plain": [
       "array([[ 2,  3,  1,  0],\n",
       "       [ 0,  1, -1,  2],\n",
       "       [ 3,  1,  1,  4]])"
      ]
     },
     "execution_count": 1,
     "metadata": {},
     "output_type": "execute_result"
    }
   ],
   "execution_count": 1
  },
  {
   "cell_type": "code",
   "id": "194c6aa6",
   "metadata": {
    "ExecuteTime": {
     "end_time": "2025-09-05T20:47:27.005151Z",
     "start_time": "2025-09-05T20:47:26.992021Z"
    }
   },
   "source": [
    "# Obliczanie pseudoodwrotności Moore’a–Penrose’a\n",
    "A_pinv = np.linalg.pinv(A)\n",
    "A_pinv"
   ],
   "outputs": [
    {
     "data": {
      "text/plain": [
       "array([[ 0.06504065, -0.22764228,  0.15447154],\n",
       "       [ 0.2804878 ,  0.26829268, -0.14634146],\n",
       "       [ 0.02845528, -0.3495935 ,  0.1300813 ],\n",
       "       [-0.12601626,  0.19105691,  0.13821138]])"
      ]
     },
     "execution_count": 2,
     "metadata": {},
     "output_type": "execute_result"
    }
   ],
   "execution_count": 2
  },
  {
   "cell_type": "markdown",
   "id": "154e801c",
   "metadata": {},
   "source": [
    "### Warunki Moore’a–Penrose’a\n",
    "Dla pseudoodwrotności $A^+$ muszą zachodzić:\n",
    "1. $A A^+ A = A$\n",
    "2. $A^+ A A^+ = A^+$\n",
    "3. $(A A^+)^T = A A^+$\n",
    "4. $(A^+ A)^T = A^+ A$"
   ]
  },
  {
   "cell_type": "code",
   "id": "a84f02e2",
   "metadata": {
    "ExecuteTime": {
     "end_time": "2025-09-05T20:47:27.018116Z",
     "start_time": "2025-09-05T20:47:27.012208Z"
    }
   },
   "source": [
    "# Sprawdzenie warunków Moore’a–Penrose’a\n",
    "cond1 = np.allclose(A @ A_pinv @ A, A)\n",
    "cond2 = np.allclose(A_pinv @ A @ A_pinv, A_pinv)\n",
    "cond3 = np.allclose((A @ A_pinv).T, A @ A_pinv)\n",
    "cond4 = np.allclose((A_pinv @ A).T, A_pinv @ A)\n",
    "\n",
    "cond1, cond2, cond3, cond4"
   ],
   "outputs": [
    {
     "data": {
      "text/plain": [
       "(True, True, True, True)"
      ]
     },
     "execution_count": 3,
     "metadata": {},
     "output_type": "execute_result"
    }
   ],
   "execution_count": 3
  }
 ],
 "metadata": {
  "kernelspec": {
   "name": "python3",
   "language": "python",
   "display_name": "Python 3 (ipykernel)"
  }
 },
 "nbformat": 4,
 "nbformat_minor": 5
}
