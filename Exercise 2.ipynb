{
 "cells": [
  {
   "cell_type": "markdown",
   "metadata": {},
   "source": [
    "# Znajdowanie Bazy Jądra i Obrazu\n",
    "\n",
    "## Zadanie\n",
    "Dane jest odwzorowanie liniowe T: ℝ⁴ → ℝ³ określone wzorem T(X) = AX dla X ∈ ℝ³, gdzie:\n",
    "\n",
    "$$A = \\begin{bmatrix}\n",
    "-1 & 2 & 1 & 4 \\\\\n",
    "3 & 0 & 1 & 2 \\\\\n",
    "1 & 4 & 3 & 10\n",
    "\\end{bmatrix}$$\n",
    "\n",
    "Wyznaczyć bazy jądra (ker T) i obrazu (im T) tego odwzorowania."
   ]
  },
  {
   "metadata": {
    "ExecuteTime": {
     "end_time": "2025-09-05T21:25:51.056394Z",
     "start_time": "2025-09-05T21:25:50.238182Z"
    }
   },
   "cell_type": "code",
   "source": [
    "from sympy import Matrix, init_printing, pprint\n",
    "from IPython.display import display\n",
    "import numpy as np\n",
    "\n",
    "def utworz_macierz_odwzorowania():\n",
    "    macierz = Matrix([\n",
    "        [-1, 2, 1, 4],\n",
    "        [3, 0, 1, 2],\n",
    "        [1, 4, 3, 10]\n",
    "    ])\n",
    "    return macierz\n",
    "\n",
    "def znajdz_jadro(macierz):\n",
    "    jadro_wektory = macierz.nullspace()\n",
    "    wymiar_jadra = len(jadro_wektory)\n",
    "\n",
    "    return jadro_wektory, wymiar_jadra\n",
    "\n",
    "def znajdz_obraz(macierz):\n",
    "    forma_schodkowa, kolumny_wiodace = macierz.rref()\n",
    "    wymiar_obrazu = len(kolumny_wiodace)\n",
    "\n",
    "    wektory_bazowe = []\n",
    "    for indeks in kolumny_wiodace:\n",
    "        wektory_bazowe.append(macierz.col(indeks))\n",
    "\n",
    "    return wektory_bazowe, wymiar_obrazu\n",
    "\n",
    "def wyswietl_wyniki(macierz, jadro_wektory, wymiar_jadra, obraz_wektory, wymiar_obrazu):\n",
    "\n",
    "    init_printing()\n",
    "\n",
    "    print(\"=\"*60)\n",
    "    print(\"ANALIZA ODWZOROWANIA LINIOWEGO T: ℝ⁴ → ℝ³\")\n",
    "    print(\"=\"*60)\n",
    "\n",
    "    print(\"\\nMACIERZ ODWZOROWANIA:\")\n",
    "    display(macierz)\n",
    "\n",
    "    print(\"\\n\" + \"─\"*40)\n",
    "    print(\"JĄDRO ODWZOROWANIA (ker T)\")\n",
    "    print(\"─\"*40)\n",
    "\n",
    "    if jadro_wektory:\n",
    "        print(f\"\\n✓ Wymiar ker T = {wymiar_jadra}\")\n",
    "        print(\"✓ Baza jądra składa się z wektorów:\")\n",
    "\n",
    "        for numer, wektor in enumerate(jadro_wektory, start=1):\n",
    "            print(f\"\\n   v{numer} =\")\n",
    "            display(wektor)\n",
    "    else:\n",
    "        print(\"\\n✓ ker T = {0} (jądro trywialne)\")\n",
    "        print(\"✓ Wymiar ker T = 0\")\n",
    "\n",
    "    print(\"\\n\" + \"─\"*40)\n",
    "    print(\"OBRAZ ODWZOROWANIA (Im T)\")\n",
    "    print(\"─\"*40)\n",
    "\n",
    "    print(f\"\\n✓ Wymiar Im T = {wymiar_obrazu}\")\n",
    "    print(\"✓ Baza obrazu składa się z wektorów:\")\n",
    "\n",
    "    for numer, wektor in enumerate(obraz_wektory, start=1):\n",
    "        print(f\"\\n   u{numer} =\")\n",
    "        display(wektor)\n",
    "\n",
    "    wymiar_dziedziny = macierz.cols\n",
    "    print(f\"\\n\" + \"─\"*40)\n",
    "    print(\"WERYFIKACJA TWIERDZENIA O WYMIARACH\")\n",
    "    print(\"─\"*40)\n",
    "    print(f\"✓ dim(ℝ⁴) = {wymiar_dziedziny}\")\n",
    "    print(f\"✓ dim(ker T) = {wymiar_jadra}\")\n",
    "    print(f\"✓ dim(Im T) = {wymiar_obrazu}\")\n",
    "    print(f\"✓ dim(ker T) + dim(Im T) = {wymiar_jadra} + {wymiar_obrazu} = {wymiar_jadra + wymiar_obrazu}\")\n",
    "\n",
    "    if wymiar_jadra + wymiar_obrazu == wymiar_dziedziny:\n",
    "        print(\"Twierdzenie o wymiarach zostało potwierdzone!\")\n",
    "    else:\n",
    "        print(\"Błąd w obliczeniach!\")\n",
    "\n",
    "def main():\n",
    "    \"\"\"Główna funkcja wykonująca analizę odwzorowania\"\"\"\n",
    "\n",
    "    M = utworz_macierz_odwzorowania()\n",
    "\n",
    "    wektory_jadra, dim_jadra = znajdz_jadro(M)\n",
    "\n",
    "    wektory_obrazu, dim_obrazu = znajdz_obraz(M)\n",
    "\n",
    "    wyswietl_wyniki(M, wektory_jadra, dim_jadra, wektory_obrazu, dim_obrazu)\n",
    "\n",
    "if __name__ == \"__main__\":\n",
    "    main()"
   ],
   "outputs": [
    {
     "name": "stdout",
     "output_type": "stream",
     "text": [
      "============================================================\n",
      "ANALIZA ODWZOROWANIA LINIOWEGO T: ℝ⁴ → ℝ³\n",
      "============================================================\n",
      "\n",
      "MACIERZ ODWZOROWANIA:\n"
     ]
    },
    {
     "data": {
      "text/plain": [
       "⎡-1  2  1  4 ⎤\n",
       "⎢            ⎥\n",
       "⎢3   0  1  2 ⎥\n",
       "⎢            ⎥\n",
       "⎣1   4  3  10⎦"
      ],
      "text/latex": "$\\displaystyle \\left[\\begin{matrix}-1 & 2 & 1 & 4\\\\3 & 0 & 1 & 2\\\\1 & 4 & 3 & 10\\end{matrix}\\right]$"
     },
     "metadata": {},
     "output_type": "display_data"
    },
    {
     "name": "stdout",
     "output_type": "stream",
     "text": [
      "\n",
      "────────────────────────────────────────\n",
      "JĄDRO ODWZOROWANIA (ker T)\n",
      "────────────────────────────────────────\n",
      "\n",
      "✓ Wymiar ker T = 2\n",
      "✓ Baza jądra składa się z wektorów:\n",
      "\n",
      "   v1 =\n"
     ]
    },
    {
     "data": {
      "text/plain": [
       "⎡-1/3⎤\n",
       "⎢    ⎥\n",
       "⎢-2/3⎥\n",
       "⎢    ⎥\n",
       "⎢ 1  ⎥\n",
       "⎢    ⎥\n",
       "⎣ 0  ⎦"
      ],
      "text/latex": "$\\displaystyle \\left[\\begin{matrix}- \\frac{1}{3}\\\\- \\frac{2}{3}\\\\1\\\\0\\end{matrix}\\right]$"
     },
     "metadata": {},
     "output_type": "display_data"
    },
    {
     "name": "stdout",
     "output_type": "stream",
     "text": [
      "\n",
      "   v2 =\n"
     ]
    },
    {
     "data": {
      "text/plain": [
       "⎡-2/3⎤\n",
       "⎢    ⎥\n",
       "⎢-7/3⎥\n",
       "⎢    ⎥\n",
       "⎢ 0  ⎥\n",
       "⎢    ⎥\n",
       "⎣ 1  ⎦"
      ],
      "text/latex": "$\\displaystyle \\left[\\begin{matrix}- \\frac{2}{3}\\\\- \\frac{7}{3}\\\\0\\\\1\\end{matrix}\\right]$"
     },
     "metadata": {},
     "output_type": "display_data"
    },
    {
     "name": "stdout",
     "output_type": "stream",
     "text": [
      "\n",
      "────────────────────────────────────────\n",
      "OBRAZ ODWZOROWANIA (Im T)\n",
      "────────────────────────────────────────\n",
      "\n",
      "✓ Wymiar Im T = 2\n",
      "✓ Baza obrazu składa się z wektorów:\n",
      "\n",
      "   u1 =\n"
     ]
    },
    {
     "data": {
      "text/plain": [
       "⎡-1⎤\n",
       "⎢  ⎥\n",
       "⎢3 ⎥\n",
       "⎢  ⎥\n",
       "⎣1 ⎦"
      ],
      "text/latex": "$\\displaystyle \\left[\\begin{matrix}-1\\\\3\\\\1\\end{matrix}\\right]$"
     },
     "metadata": {},
     "output_type": "display_data"
    },
    {
     "name": "stdout",
     "output_type": "stream",
     "text": [
      "\n",
      "   u2 =\n"
     ]
    },
    {
     "data": {
      "text/plain": [
       "⎡2⎤\n",
       "⎢ ⎥\n",
       "⎢0⎥\n",
       "⎢ ⎥\n",
       "⎣4⎦"
      ],
      "text/latex": "$\\displaystyle \\left[\\begin{matrix}2\\\\0\\\\4\\end{matrix}\\right]$"
     },
     "metadata": {},
     "output_type": "display_data"
    },
    {
     "name": "stdout",
     "output_type": "stream",
     "text": [
      "\n",
      "────────────────────────────────────────\n",
      "WERYFIKACJA TWIERDZENIA O WYMIARACH\n",
      "────────────────────────────────────────\n",
      "✓ dim(ℝ⁴) = 4\n",
      "✓ dim(ker T) = 2\n",
      "✓ dim(Im T) = 2\n",
      "✓ dim(ker T) + dim(Im T) = 2 + 2 = 4\n",
      "Twierdzenie o wymiarach zostało potwierdzone!\n"
     ]
    }
   ],
   "execution_count": 1
  }
 ],
 "metadata": {
  "kernelspec": {
   "display_name": "Python 3",
   "language": "python",
   "name": "python3"
  },
  "language_info": {
   "codemirror_mode": {
    "name": "ipython",
    "version": 3
   },
   "file_extension": ".py",
   "mimetype": "text/x-python",
   "name": "python",
   "nbconvert_exporter": "python",
   "pygments_lexer": "ipython3",
   "version": "3.8.5"
  }
 },
 "nbformat": 4,
 "nbformat_minor": 4
}
