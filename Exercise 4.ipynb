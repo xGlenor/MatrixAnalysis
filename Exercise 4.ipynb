{
 "cells": [
  {
   "cell_type": "markdown",
   "id": "8957dc24",
   "metadata": {},
   "source": [
    "\n",
    "# SVD i pseudoodwrotność Moore’a–Penrose’a dla macierzy \\(A=\\begin{bmatrix}2&1\\\\2&1\\end{bmatrix}\\)\n",
    "\n",
    "**Zadanie:**  \n",
    "a) Znaleźć rozkład SVD macierzy \\(A\\) (wartości osobliwe i wektory).  \n",
    "b) Wyznaczyć pseudoodwrotność Moore’a–Penrose’a macierzy \\(A\\).\n",
    "\n",
    "Poniżej obliczenia krok po kroku w Python/SymPy.\n"
   ]
  },
  {
   "cell_type": "code",
   "id": "543b09a9",
   "metadata": {
    "ExecuteTime": {
     "end_time": "2025-09-06T09:59:25.098557Z",
     "start_time": "2025-09-06T09:59:24.392888Z"
    }
   },
   "source": [
    "\n",
    "import sympy as sp\n",
    "sp.init_printing()\n",
    "\n",
    "A = sp.Matrix([[2, 1],\n",
    "               [2, 1]])\n",
    "A\n"
   ],
   "outputs": [
    {
     "data": {
      "text/plain": [
       "⎡2  1⎤\n",
       "⎢    ⎥\n",
       "⎣2  1⎦"
      ],
      "text/latex": "$\\displaystyle \\left[\\begin{matrix}2 & 1\\\\2 & 1\\end{matrix}\\right]$"
     },
     "execution_count": 1,
     "metadata": {},
     "output_type": "execute_result"
    }
   ],
   "execution_count": 1
  },
  {
   "cell_type": "markdown",
   "id": "1e1f881e",
   "metadata": {},
   "source": [
    "## 1) Cienkie SVD (SymPy)"
   ]
  },
  {
   "cell_type": "code",
   "id": "153f4570",
   "metadata": {
    "ExecuteTime": {
     "end_time": "2025-09-06T09:59:25.212747Z",
     "start_time": "2025-09-06T09:59:25.104582Z"
    }
   },
   "source": [
    "\n",
    "U_t, S_t, V_t = A.singular_value_decomposition()\n",
    "U_t, S_t, V_t\n"
   ],
   "outputs": [
    {
     "data": {
      "text/plain": [
       "⎛⎡√2⎤         ⎡2⋅√5⎤⎞\n",
       "⎜⎢──⎥         ⎢────⎥⎟\n",
       "⎜⎢2 ⎥         ⎢ 5  ⎥⎟\n",
       "⎜⎢  ⎥, [√10], ⎢    ⎥⎟\n",
       "⎜⎢√2⎥         ⎢ √5 ⎥⎟\n",
       "⎜⎢──⎥         ⎢ ── ⎥⎟\n",
       "⎝⎣2 ⎦         ⎣ 5  ⎦⎠"
      ],
      "text/latex": "$\\displaystyle \\left( \\left[\\begin{matrix}\\frac{\\sqrt{2}}{2}\\\\\\frac{\\sqrt{2}}{2}\\end{matrix}\\right], \\  \\left[\\begin{matrix}\\sqrt{10}\\end{matrix}\\right], \\  \\left[\\begin{matrix}\\frac{2 \\sqrt{5}}{5}\\\\\\frac{\\sqrt{5}}{5}\\end{matrix}\\right]\\right)$"
     },
     "execution_count": 2,
     "metadata": {},
     "output_type": "execute_result"
    }
   ],
   "execution_count": 2
  },
  {
   "cell_type": "markdown",
   "id": "38de85c6",
   "metadata": {},
   "source": [
    "\n",
    "SymPy zwraca **cienkie SVD** (rządowe). Aby mieć pełne SVD 2×2, uzupełniamy bazy o wektory ortonormalne.\n"
   ]
  },
  {
   "cell_type": "code",
   "id": "7112cd71",
   "metadata": {
    "ExecuteTime": {
     "end_time": "2025-09-06T09:59:25.236144Z",
     "start_time": "2025-09-06T09:59:25.217758Z"
    }
   },
   "source": [
    "\n",
    "\n",
    "u1 = U_t[:, 0]\n",
    "\n",
    "u2 = sp.Matrix([[sp.sqrt(2)/2], [-sp.sqrt(2)/2]])\n",
    "\n",
    "v1 = V_t[:, 0]\n",
    "\n",
    "v2 = sp.Matrix([[-sp.sqrt(5)/5], [2*sp.sqrt(5)/5]])\n",
    "\n",
    "U = sp.Matrix.hstack(u1, u2)\n",
    "Sigma = sp.Matrix([[S_t[0,0], 0],\n",
    "                   [0, 0]])\n",
    "V = sp.Matrix.hstack(v1, v2)\n",
    "\n",
    "U, Sigma, V\n"
   ],
   "outputs": [
    {
     "data": {
      "text/plain": [
       "⎛⎡√2   √2 ⎤            ⎡2⋅√5  -√5 ⎤⎞\n",
       "⎜⎢──   ── ⎥            ⎢────  ────⎥⎟\n",
       "⎜⎢2    2  ⎥  ⎡√10  0⎤  ⎢ 5     5  ⎥⎟\n",
       "⎜⎢        ⎥, ⎢      ⎥, ⎢          ⎥⎟\n",
       "⎜⎢√2  -√2 ⎥  ⎣ 0   0⎦  ⎢ √5   2⋅√5⎥⎟\n",
       "⎜⎢──  ────⎥            ⎢ ──   ────⎥⎟\n",
       "⎝⎣2    2  ⎦            ⎣ 5     5  ⎦⎠"
      ],
      "text/latex": "$\\displaystyle \\left( \\left[\\begin{matrix}\\frac{\\sqrt{2}}{2} & \\frac{\\sqrt{2}}{2}\\\\\\frac{\\sqrt{2}}{2} & - \\frac{\\sqrt{2}}{2}\\end{matrix}\\right], \\  \\left[\\begin{matrix}\\sqrt{10} & 0\\\\0 & 0\\end{matrix}\\right], \\  \\left[\\begin{matrix}\\frac{2 \\sqrt{5}}{5} & - \\frac{\\sqrt{5}}{5}\\\\\\frac{\\sqrt{5}}{5} & \\frac{2 \\sqrt{5}}{5}\\end{matrix}\\right]\\right)$"
     },
     "execution_count": 3,
     "metadata": {},
     "output_type": "execute_result"
    }
   ],
   "execution_count": 3
  },
  {
   "cell_type": "markdown",
   "id": "f51383c8",
   "metadata": {},
   "source": [
    "### Weryfikacja rekonstrukcji \\(A = U\\Sigma V^T\\)"
   ]
  },
  {
   "cell_type": "code",
   "id": "034f3fed",
   "metadata": {
    "ExecuteTime": {
     "end_time": "2025-09-06T09:59:25.259711Z",
     "start_time": "2025-09-06T09:59:25.244662Z"
    }
   },
   "source": [
    "\n",
    "U*Sigma*V.T\n"
   ],
   "outputs": [
    {
     "data": {
      "text/plain": [
       "⎡2  1⎤\n",
       "⎢    ⎥\n",
       "⎣2  1⎦"
      ],
      "text/latex": "$\\displaystyle \\left[\\begin{matrix}2 & 1\\\\2 & 1\\end{matrix}\\right]$"
     },
     "execution_count": 4,
     "metadata": {},
     "output_type": "execute_result"
    }
   ],
   "execution_count": 4
  },
  {
   "cell_type": "markdown",
   "id": "30ead8b7",
   "metadata": {},
   "source": [
    "## 2) Pseudoodwrotność Moore’a–Penrose’a"
   ]
  },
  {
   "cell_type": "code",
   "id": "d88583d6",
   "metadata": {
    "ExecuteTime": {
     "end_time": "2025-09-06T09:59:25.285841Z",
     "start_time": "2025-09-06T09:59:25.268785Z"
    }
   },
   "source": [
    "Sigma_pinv = sp.Matrix([[1/Sigma[0,0], 0],\n",
    "                        [0, 0]])\n",
    "A_pinv_svd = V * Sigma_pinv * U.T\n",
    "\n",
    "A_pinv_sympy = A.pinv()\n",
    "\n",
    "A_pinv_svd, A_pinv_sympy, sp.simplify(A_pinv_svd - A_pinv_sympy)\n"
   ],
   "outputs": [
    {
     "data": {
      "text/plain": [
       "⎛⎡1/5   1/5 ⎤  ⎡1/5   1/5 ⎤  ⎡0  0⎤⎞\n",
       "⎜⎢          ⎥, ⎢          ⎥, ⎢    ⎥⎟\n",
       "⎝⎣1/10  1/10⎦  ⎣1/10  1/10⎦  ⎣0  0⎦⎠"
      ],
      "text/latex": "$\\displaystyle \\left( \\left[\\begin{matrix}\\frac{1}{5} & \\frac{1}{5}\\\\\\frac{1}{10} & \\frac{1}{10}\\end{matrix}\\right], \\  \\left[\\begin{matrix}\\frac{1}{5} & \\frac{1}{5}\\\\\\frac{1}{10} & \\frac{1}{10}\\end{matrix}\\right], \\  \\left[\\begin{matrix}0 & 0\\\\0 & 0\\end{matrix}\\right]\\right)$"
     },
     "execution_count": 5,
     "metadata": {},
     "output_type": "execute_result"
    }
   ],
   "execution_count": 5
  },
  {
   "cell_type": "markdown",
   "id": "28cc8c72",
   "metadata": {},
   "source": [
    "### 3) Sprawdzenie warunków Penrose’a"
   ]
  },
  {
   "cell_type": "code",
   "id": "9b8d6c62",
   "metadata": {
    "ExecuteTime": {
     "end_time": "2025-09-06T09:59:25.310874Z",
     "start_time": "2025-09-06T09:59:25.295432Z"
    }
   },
   "source": [
    "\n",
    "cond1 = A * A_pinv_svd * A         # = A\n",
    "cond2 = A_pinv_svd * A * A_pinv_svd# = A^+\n",
    "cond3 = (A * A_pinv_svd).T - (A * A_pinv_svd)  # = 0\n",
    "cond4 = (A_pinv_svd * A).T - (A_pinv_svd * A)  # = 0\n",
    "\n",
    "cond1, cond2, cond3, cond4\n"
   ],
   "outputs": [
    {
     "data": {
      "text/plain": [
       "⎛⎡2  1⎤  ⎡1/5   1/5 ⎤  ⎡0  0⎤  ⎡0  0⎤⎞\n",
       "⎜⎢    ⎥, ⎢          ⎥, ⎢    ⎥, ⎢    ⎥⎟\n",
       "⎝⎣2  1⎦  ⎣1/10  1/10⎦  ⎣0  0⎦  ⎣0  0⎦⎠"
      ],
      "text/latex": "$\\displaystyle \\left( \\left[\\begin{matrix}2 & 1\\\\2 & 1\\end{matrix}\\right], \\  \\left[\\begin{matrix}\\frac{1}{5} & \\frac{1}{5}\\\\\\frac{1}{10} & \\frac{1}{10}\\end{matrix}\\right], \\  \\left[\\begin{matrix}0 & 0\\\\0 & 0\\end{matrix}\\right], \\  \\left[\\begin{matrix}0 & 0\\\\0 & 0\\end{matrix}\\right]\\right)$"
     },
     "execution_count": 6,
     "metadata": {},
     "output_type": "execute_result"
    }
   ],
   "execution_count": 6
  },
  {
   "cell_type": "markdown",
   "id": "2c79c21f",
   "metadata": {},
   "source": [
    "\n",
    "## Wyniki (do zacytowania)\n",
    "\n",
    "- Wartości osobliwe: \\(\\sigma_1 = \\sqrt{10}, \\; \\sigma_2 = 0\\).  \n",
    "- Pełne SVD można przyjąć jako  \n",
    "\\[\n",
    "U=\\begin{bmatrix}\\tfrac{\\sqrt2}{2}&\\tfrac{\\sqrt2}{2}\\\\[2pt]\\tfrac{\\sqrt2}{2}&-\\tfrac{\\sqrt2}{2}\\end{bmatrix},\\quad\n",
    "\\Sigma=\\begin{bmatrix}\\sqrt{10}&0\\\\0&0\\end{bmatrix},\\quad\n",
    "V=\\begin{bmatrix}\\tfrac{2}{\\sqrt5}&-\\tfrac{1}{\\sqrt5}\\\\[2pt]\\tfrac{1}{\\sqrt5}&\\tfrac{2}{\\sqrt5}\\end{bmatrix}.\n",
    "\\]\n",
    "- Pseudoodwrotność:  \n",
    "\\[\n",
    "A^{+}=\\begin{bmatrix}\\tfrac{1}{5}&\\tfrac{1}{5}\\\\[2pt]\\tfrac{1}{10}&\\tfrac{1}{10}\\end{bmatrix}.\n",
    "\\]\n",
    "Warunki Moore’a–Penrose’a są spełnione.\n"
   ]
  }
 ],
 "metadata": {
  "kernelspec": {
   "name": "python3",
   "language": "python",
   "display_name": "Python 3 (ipykernel)"
  }
 },
 "nbformat": 4,
 "nbformat_minor": 5
}
