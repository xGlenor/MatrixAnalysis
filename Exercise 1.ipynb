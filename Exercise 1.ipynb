{
 "cells": [
  {
   "cell_type": "markdown",
   "id": "5834973ffb6ec77f",
   "metadata": {},
   "source": [
    "# Zadanie 1 - Liniowa niezależność wektorów\n",
    "\n",
    "## Polecenie\n",
    "\n",
    "Spośród wektorów **x**, **y**, **z**, **u**, **v** należących do **R⁴** wybrać maksymalnie wiele wektorów liniowo niezależnych, a pozostałe wyrazić jako ich kombinacje liniowe.\n",
    "\n",
    "## Dane wektory\n",
    "$x = \\begin{bmatrix}\n",
    "2 \\\\ 1 \\\\ 0 \\\\ 3\n",
    "\\end{bmatrix}$\n",
    "$y = \\begin{bmatrix}\n",
    "1 \\\\ 6 \\\\ 1 \\\\ 8\n",
    "\\end{bmatrix}$\n",
    "$z = \\begin{bmatrix}\n",
    "-1 \\\\ 4 \\\\ 1 \\\\ 2\n",
    "\\end{bmatrix}$\n",
    "$u = \\begin{bmatrix}\n",
    "0 \\\\ 1 \\\\ 0 \\\\ 3\n",
    "\\end{bmatrix}$\n",
    "$v = \\begin{bmatrix}\n",
    "1 \\\\ -5 \\\\ -1 \\\\ -5\n",
    "\\end{bmatrix}$"
   ]
  },
  {
   "cell_type": "code",
   "id": "d19768808d66c9bf",
   "metadata": {
    "ExecuteTime": {
     "end_time": "2025-09-05T21:23:40.139265Z",
     "start_time": "2025-09-05T21:23:40.122237Z"
    }
   },
   "source": [
    "import sympy as sp\n",
    "\n",
    "sp.init_printing(use_unicode=True)\n",
    "\n",
    "x = sp.Matrix([2, 1, 0, 3])\n",
    "y = sp.Matrix([1, 6, 1, 8])\n",
    "z = sp.Matrix([-1, 4, 1, 2])\n",
    "u = sp.Matrix([0, 1, 0, 3])\n",
    "v = sp.Matrix([1, -5, -1, -5])\n",
    "\n",
    "A = sp.Matrix.hstack(x, y, z, u, v)\n",
    "\n",
    "print(\"Macierz A:\")\n",
    "A\n"
   ],
   "outputs": [
    {
     "name": "stdout",
     "output_type": "stream",
     "text": [
      "Macierz A:\n"
     ]
    },
    {
     "data": {
      "text/plain": [
       "⎡2  1  -1  0  1 ⎤\n",
       "⎢               ⎥\n",
       "⎢1  6  4   1  -5⎥\n",
       "⎢               ⎥\n",
       "⎢0  1  1   0  -1⎥\n",
       "⎢               ⎥\n",
       "⎣3  8  2   3  -5⎦"
      ],
      "text/latex": "$\\displaystyle \\left[\\begin{matrix}2 & 1 & -1 & 0 & 1\\\\1 & 6 & 4 & 1 & -5\\\\0 & 1 & 1 & 0 & -1\\\\3 & 8 & 2 & 3 & -5\\end{matrix}\\right]$"
     },
     "execution_count": 6,
     "metadata": {},
     "output_type": "execute_result"
    }
   ],
   "execution_count": 6
  },
  {
   "cell_type": "code",
   "id": "6dac89ba67ce346b",
   "metadata": {
    "ExecuteTime": {
     "end_time": "2025-09-05T21:23:40.180360Z",
     "start_time": "2025-09-05T21:23:40.165Z"
    }
   },
   "source": [
    "A_rref, pivot_columns = A.rref()\n",
    "\n",
    "print(\"Postać schodkowa zredukowana macierzy A (RREF):\")\n",
    "A_rref"
   ],
   "outputs": [
    {
     "name": "stdout",
     "output_type": "stream",
     "text": [
      "Postać schodkowa zredukowana macierzy A (RREF):\n"
     ]
    },
    {
     "data": {
      "text/plain": [
       "⎡1  0  0  -1  1 ⎤\n",
       "⎢               ⎥\n",
       "⎢0  1  0  1   -1⎥\n",
       "⎢               ⎥\n",
       "⎢0  0  1  -1  0 ⎥\n",
       "⎢               ⎥\n",
       "⎣0  0  0  0   0 ⎦"
      ],
      "text/latex": "$\\displaystyle \\left[\\begin{matrix}1 & 0 & 0 & -1 & 1\\\\0 & 1 & 0 & 1 & -1\\\\0 & 0 & 1 & -1 & 0\\\\0 & 0 & 0 & 0 & 0\\end{matrix}\\right]$"
     },
     "execution_count": 7,
     "metadata": {},
     "output_type": "execute_result"
    }
   ],
   "execution_count": 7
  },
  {
   "cell_type": "code",
   "id": "cd09a18b75212a68",
   "metadata": {
    "ExecuteTime": {
     "end_time": "2025-09-05T21:23:40.193385Z",
     "start_time": "2025-09-05T21:23:40.190483Z"
    }
   },
   "source": [
    "print(f\"Indeksy kolumn z pivotami: {pivot_columns}\")"
   ],
   "outputs": [
    {
     "name": "stdout",
     "output_type": "stream",
     "text": [
      "Indeksy kolumn z pivotami: (0, 1, 2)\n"
     ]
    }
   ],
   "execution_count": 8
  },
  {
   "cell_type": "code",
   "id": "c1a07c120500d77a",
   "metadata": {
    "ExecuteTime": {
     "end_time": "2025-09-05T21:23:40.221326Z",
     "start_time": "2025-09-05T21:23:40.216921Z"
    }
   },
   "source": [
    "sprawdzenie_u = -x + y - z\n",
    "\n",
    "print(\"Wynik kombinacji -x + y - z:\")\n",
    "print(sprawdzenie_u)\n",
    "print(\"\\nWektor u:\")\n",
    "print(u)\n",
    "\n",
    "print(\"Wynik:\", sprawdzenie_u == u)"
   ],
   "outputs": [
    {
     "name": "stdout",
     "output_type": "stream",
     "text": [
      "Wynik kombinacji -x + y - z:\n",
      "Matrix([[0], [1], [0], [3]])\n",
      "\n",
      "Wektor u:\n",
      "Matrix([[0], [1], [0], [3]])\n",
      "Wynik: True\n"
     ]
    }
   ],
   "execution_count": 9
  },
  {
   "cell_type": "code",
   "id": "783d8547ec3e0e80",
   "metadata": {
    "ExecuteTime": {
     "end_time": "2025-09-05T21:23:40.244107Z",
     "start_time": "2025-09-05T21:23:40.239589Z"
    }
   },
   "source": [
    "sprawdzenie_v = x - y\n",
    "\n",
    "print(\"Wynik kombinacji x - y:\")\n",
    "print(sprawdzenie_v)\n",
    "print(\"\\nWektor v:\")\n",
    "print(v)\n",
    "\n",
    "print(\"Wynik:\", sprawdzenie_v == v)"
   ],
   "outputs": [
    {
     "name": "stdout",
     "output_type": "stream",
     "text": [
      "Wynik kombinacji x - y:\n",
      "Matrix([[1], [-5], [-1], [-5]])\n",
      "\n",
      "Wektor v:\n",
      "Matrix([[1], [-5], [-1], [-5]])\n",
      "Wynik: True\n"
     ]
    }
   ],
   "execution_count": 10
  }
 ],
 "metadata": {
  "kernelspec": {
   "display_name": "Python 3 (ipykernel)",
   "language": "python",
   "name": "python3"
  },
  "language_info": {
   "codemirror_mode": {
    "name": "ipython",
    "version": 3
   },
   "file_extension": ".py",
   "mimetype": "text/x-python",
   "name": "python",
   "nbconvert_exporter": "python",
   "pygments_lexer": "ipython3",
   "version": "3.12.10"
  }
 },
 "nbformat": 4,
 "nbformat_minor": 5
}
